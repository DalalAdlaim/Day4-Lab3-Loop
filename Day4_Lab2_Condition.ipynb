{
  "nbformat": 4,
  "nbformat_minor": 0,
  "metadata": {
    "colab": {
      "provenance": [],
      "collapsed_sections": []
    },
    "kernelspec": {
      "name": "python3",
      "display_name": "Python 3"
    },
    "language_info": {
      "name": "python"
    }
  },
  "cells": [
    {
      "cell_type": "markdown",
      "source": [],
      "metadata": {
        "id": "11_zt60n9zsl"
      }
    },
    {
      "cell_type": "code",
      "execution_count": 29,
      "metadata": {
        "id": "6dvcZvG02RxD",
        "colab": {
          "base_uri": "https://localhost:8080/"
        },
        "outputId": "37612528-11ae-43f1-fb49-a0bebf07ce3d"
      },
      "outputs": [
        {
          "output_type": "stream",
          "name": "stdout",
          "text": [
            "what is the product of 7 * 24 ?168\n",
            "You answered this Question correctly\n"
          ]
        }
      ],
      "source": [
        "#1.  Using range(), make a range from 45 to 210, using a for loop iterate over the sequence and print the elements.Skip the number 100 and break the loop at 205. \n",
        "for num in range(45, 210):\n",
        "     if num == 100:\n",
        "        continue\n",
        "     if num == 205:\n",
        "       break\n",
        "     print(num) \n",
        "\n",
        "answer=0\n",
        "while True:\n",
        "    answer = input('what is the product of 7 * 24 ?')\n",
        "    answer=int(answer)\n",
        "    if answer == 168:\n",
        "        print('You answered this Question correctly')\n",
        "        break\n",
        "    else:\n",
        "        print('Your Answer is wrong try again..')\n",
        "        continue\n",
        "\n",
        "\n"
      ]
    }
  ]
}